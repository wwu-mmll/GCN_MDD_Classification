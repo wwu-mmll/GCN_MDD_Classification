{
  "nbformat": 4,
  "nbformat_minor": 0,
  "metadata": {
    "colab": {
      "name": "Single_training.ipynb",
      "provenance": [],
      "collapsed_sections": [],
      "authorship_tag": "ABX9TyObq6emk6zNpoFXT46qCsPO",
      "include_colab_link": true
    },
    "kernelspec": {
      "name": "python3",
      "display_name": "Python 3"
    },
    "accelerator": "GPU"
  },
  "cells": [
    {
      "cell_type": "markdown",
      "metadata": {
        "id": "view-in-github",
        "colab_type": "text"
      },
      "source": [
        "<a href=\"https://colab.research.google.com/github/Warvito/GCN/blob/master/Single_training.ipynb\" target=\"_parent\"><img src=\"https://colab.research.google.com/assets/colab-badge.svg\" alt=\"Open In Colab\"/></a>"
      ]
    },
    {
      "cell_type": "markdown",
      "metadata": {
        "id": "SfIeypPSxaw_",
        "colab_type": "text"
      },
      "source": [
        "Set Colab to use GPU"
      ]
    },
    {
      "cell_type": "code",
      "metadata": {
        "id": "Pg7IwxWn1zgc",
        "colab_type": "code",
        "outputId": "76f1212f-37da-4e6d-d91e-23e655712e15",
        "colab": {
          "base_uri": "https://localhost:8080/",
          "height": 34
        }
      },
      "source": [
        "import torch\n",
        "print(torch.version.cuda)"
      ],
      "execution_count": 49,
      "outputs": [
        {
          "output_type": "stream",
          "text": [
            "10.1\n"
          ],
          "name": "stdout"
        }
      ]
    },
    {
      "cell_type": "markdown",
      "metadata": {
        "id": "FJcfOs3nvNqE",
        "colab_type": "text"
      },
      "source": [
        "Please, create an data.zip file with the following data structure:\n",
        "\n",
        "\n",
        "*   data\n",
        "    *   raw\n",
        "        *   10013.txt\n",
        "        *   10013.txt\n",
        "        *   ...     \n",
        "        *   51256.txt\n",
        "        *   Labels.csv        \n",
        "\n",
        "Then upload it to colab using the following cell or usin the files tab."
      ]
    },
    {
      "cell_type": "code",
      "metadata": {
        "id": "01VBbFMnveTm",
        "colab_type": "code",
        "colab": {
          "resources": {
            "http://localhost:8080/nbextensions/google.colab/files.js": {
              "data": "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",
              "ok": true,
              "headers": [
                [
                  "content-type",
                  "application/javascript"
                ]
              ],
              "status": 200,
              "status_text": "OK"
            }
          },
          "base_uri": "https://localhost:8080/",
          "height": 100
        },
        "outputId": "a8861175-2997-46b5-f05e-9a333b69d65f"
      },
      "source": [
        "from google.colab import files\n",
        "\n",
        "uploaded = files.upload()\n",
        "\n",
        "for fn in uploaded.keys():\n",
        "  print('User uploaded file \"{name}\" with length {length} bytes'.format(\n",
        "      name=fn, length=len(uploaded[fn])))"
      ],
      "execution_count": 51,
      "outputs": [
        {
          "output_type": "display_data",
          "data": {
            "text/html": [
              "\n",
              "     <input type=\"file\" id=\"files-6d51ff15-c3d2-4319-bb67-2d5e0cdc0a01\" name=\"files[]\" multiple disabled />\n",
              "     <output id=\"result-6d51ff15-c3d2-4319-bb67-2d5e0cdc0a01\">\n",
              "      Upload widget is only available when the cell has been executed in the\n",
              "      current browser session. Please rerun this cell to enable.\n",
              "      </output>\n",
              "      <script src=\"/nbextensions/google.colab/files.js\"></script> "
            ],
            "text/plain": [
              "<IPython.core.display.HTML object>"
            ]
          },
          "metadata": {
            "tags": []
          }
        },
        {
          "output_type": "stream",
          "text": [
            "Saving data.zip to data.zip\n",
            "User uploaded file \"data.zip\" with length 30440738 bytes\n"
          ],
          "name": "stdout"
        }
      ]
    },
    {
      "cell_type": "code",
      "metadata": {
        "id": "lDEdpxW5z4OV",
        "colab_type": "code",
        "colab": {}
      },
      "source": [
        "! unzip data.zip"
      ],
      "execution_count": 0,
      "outputs": []
    },
    {
      "cell_type": "code",
      "metadata": {
        "id": "XD8IW50y1aJh",
        "colab_type": "code",
        "colab": {}
      },
      "source": [
        "!pip3 install torch-scatter==latest+cu101 -f https://pytorch-geometric.com/whl/torch-1.4.0.html\n",
        "!pip3 install torch-sparse==latest+cu101 -f https://pytorch-geometric.com/whl/torch-1.4.0.html\n",
        "!pip3 install torch-cluster==latest+cu101 -f https://pytorch-geometric.com/whl/torch-1.4.0.html\n",
        "!pip3 install torch-spline-conv==latest+cu101 -f https://pytorch-geometric.com/whl/torch-1.4.0.html\n",
        "!pip3 install torch-geometric"
      ],
      "execution_count": 0,
      "outputs": []
    },
    {
      "cell_type": "code",
      "metadata": {
        "id": "9ApF-Zpp0LYM",
        "colab_type": "code",
        "colab": {
          "base_uri": "https://localhost:8080/",
          "height": 34
        },
        "outputId": "9d3141e5-5958-4bab-8027-c25e8d610814"
      },
      "source": [
        "# Set random seed\n",
        "import numpy as np\n",
        "np.random.seed(0)\n",
        "torch.manual_seed(0)"
      ],
      "execution_count": 70,
      "outputs": [
        {
          "output_type": "execute_result",
          "data": {
            "text/plain": [
              "<torch._C.Generator at 0x7fcc66b203f0>"
            ]
          },
          "metadata": {
            "tags": []
          },
          "execution_count": 70
        }
      ]
    },
    {
      "cell_type": "code",
      "metadata": {
        "id": "dpdbvV100y6B",
        "colab_type": "code",
        "colab": {}
      },
      "source": [
        "import math\n",
        "from pathlib import Path\n",
        "\n",
        "import numpy as np\n",
        "import torch\n",
        "from torch_geometric.data import InMemoryDataset, Data\n",
        "from torch_geometric.utils import dense_to_sparse\n",
        "\n",
        "\n",
        "class ConnectivityData(InMemoryDataset):\n",
        "    \"\"\" Dataset for the connectivity data.\"\"\"\n",
        "\n",
        "    def __init__(self,\n",
        "                 root,\n",
        "                 sparsity=.2):\n",
        "        self.sparsity = sparsity\n",
        "        super(ConnectivityData, self).__init__(root, None, None)\n",
        "        self.data, self.slices = torch.load(self.processed_paths[0])\n",
        "\n",
        "    @property\n",
        "    def raw_file_names(self):\n",
        "        file_paths = sorted(list(Path(self.raw_dir).glob(\"*.txt\")))\n",
        "        return [str(file_path.name) for file_path in file_paths]\n",
        "\n",
        "    @property\n",
        "    def processed_file_names(self):\n",
        "        return 'data.pt'\n",
        "\n",
        "    def binarize(self, matrix):\n",
        "        \"\"\" Calculate the adjacency matrix from the connectivity matrix.\"\"\"\n",
        "        triu_numel = int((matrix.size - np.diag(matrix).size) / 2)\n",
        "        threshold = math.floor(self.sparsity * triu_numel)\n",
        "        sorted_idx = np.argsort(np.triu(np.abs(matrix), 1), axis=None)\n",
        "        valid_idx = sorted_idx[-threshold:]\n",
        "        adj_mat = np.zeros(matrix.shape, dtype='int32').flatten()\n",
        "        adj_mat[valid_idx] = 1\n",
        "        adj_mat = adj_mat.reshape(matrix.shape)\n",
        "        return adj_mat + adj_mat.transpose()\n",
        "\n",
        "    def process(self):\n",
        "        labels = np.genfromtxt(Path(self.raw_dir) / \"Labels.csv\")\n",
        "\n",
        "        data_list = []\n",
        "        for filename, y in zip(self.raw_paths, labels):\n",
        "            y = torch.tensor([y]).long()\n",
        "            connectivity = np.genfromtxt(filename)\n",
        "            x = torch.from_numpy(connectivity).float()\n",
        "\n",
        "            adj = self.binarize(connectivity)\n",
        "            adj = torch.from_numpy(adj).float()\n",
        "            edge_index = dense_to_sparse(adj)[0]\n",
        "\n",
        "            data_list.append(Data(x=x, edge_index=edge_index, y=y))\n",
        "\n",
        "        data, slices = self.collate(data_list)\n",
        "        torch.save((data, slices), self.processed_paths[0])\n"
      ],
      "execution_count": 0,
      "outputs": []
    },
    {
      "cell_type": "code",
      "metadata": {
        "id": "CL0rvPSGEo9r",
        "colab_type": "code",
        "colab": {}
      },
      "source": [
        "import torch\n",
        "import torch.nn.functional as F\n",
        "from torch_geometric.nn import ChebConv, global_mean_pool\n",
        "\n",
        "\n",
        "class GCN(torch.nn.Module):\n",
        "    \"\"\"GCN model(network architecture can be modified)\"\"\"\n",
        "\n",
        "    def __init__(self,\n",
        "                 num_features,\n",
        "                 num_classes,\n",
        "                 k_order,\n",
        "                 dropout=0.):\n",
        "        super(GCN, self).__init__()\n",
        "\n",
        "        num_features = int(num_features)\n",
        "\n",
        "        self.conv1 = ChebConv(num_features, 32, K=k_order)\n",
        "        self.conv2 = ChebConv(32, 32, K=k_order)\n",
        "        self.conv3 = ChebConv(32, 64, K=k_order)\n",
        "        self.conv4 = ChebConv(64, 64, K=k_order)\n",
        "        self.conv5 = ChebConv(64, 128, K=k_order)\n",
        "\n",
        "        self.lin1 = torch.nn.Linear(128, int(num_classes))\n",
        "\n",
        "    def forward(self, data):\n",
        "        x, edge_index, batch = data.x, data.edge_index, data.batch\n",
        "\n",
        "        x = F.relu(self.conv1(x, edge_index))\n",
        "        x = F.relu(self.conv2(x, edge_index))\n",
        "        x = F.dropout(x, training=self.training)\n",
        "        x = F.relu(self.conv3(x, edge_index))\n",
        "        x = F.relu(self.conv4(x, edge_index))\n",
        "        x = F.dropout(x, training=self.training)\n",
        "        x = F.relu(self.conv5(x, edge_index))\n",
        "\n",
        "        x = global_mean_pool(x, batch)\n",
        "        x = self.lin1(x)\n",
        "\n",
        "        return F.log_softmax(x, dim=1)\n"
      ],
      "execution_count": 0,
      "outputs": []
    },
    {
      "cell_type": "code",
      "metadata": {
        "id": "DPL30RA4GknS",
        "colab_type": "code",
        "colab": {}
      },
      "source": [
        "import torch\n",
        "from torch_geometric.data import DataLoader\n",
        "\n",
        "dataset = ConnectivityData('./data')\n",
        "dataset = dataset.shuffle()\n",
        "n = len(dataset) // 10\n",
        "test_dataset = dataset[:n]\n",
        "train_dataset = dataset[n:]\n",
        "test_loader = DataLoader(test_dataset, batch_size=60)\n",
        "train_loader = DataLoader(train_dataset, batch_size=60)\n",
        "\n",
        "device = torch.device('cuda' if torch.cuda.is_available() else 'cpu')\n",
        "model = GCN(dataset.num_features, dataset.num_classes, 9).to(device)\n",
        "optimizer = torch.optim.Adam(model.parameters(), lr=0.0005)\n",
        "\n",
        "\n",
        "def train(epoch):\n",
        "    model.train()\n",
        "\n",
        "    loss_all = 0\n",
        "    for data in train_loader:\n",
        "        data = data.to(device)\n",
        "        optimizer.zero_grad()\n",
        "        output = model(data)\n",
        "        loss = F.nll_loss(output, data.y)\n",
        "        loss.backward()\n",
        "        loss_all += data.num_graphs * loss.item()\n",
        "        optimizer.step()\n",
        "    return loss_all / len(train_dataset)\n",
        "\n",
        "\n",
        "def test(loader):\n",
        "    model.eval()\n",
        "\n",
        "    correct = 0\n",
        "    for data in loader:\n",
        "        data = data.to(device)\n",
        "        pred = model(data).max(dim=1)[1]\n",
        "        correct += pred.eq(data.y).sum().item()\n",
        "    return correct / len(loader.dataset)\n",
        "\n",
        "\n"
      ],
      "execution_count": 0,
      "outputs": []
    },
    {
      "cell_type": "code",
      "metadata": {
        "id": "I-l4IZdQNbRT",
        "colab_type": "code",
        "outputId": "725b0523-198a-4436-a2fe-5a7980fc9518",
        "colab": {
          "base_uri": "https://localhost:8080/",
          "height": 1000
        }
      },
      "source": [
        "train_curve = []\n",
        "test_curve = []\n",
        "for epoch in range(1, 101):\n",
        "    loss = train(epoch)\n",
        "    train_acc = test(train_loader)\n",
        "    test_acc = test(test_loader)\n",
        "    print('Epoch: {:03d}, Loss: {:.5f}, Train Acc: {:.5f}, Test Acc: {:.5f}'.\n",
        "          format(epoch, loss, train_acc, test_acc))\n",
        "    \n",
        "    train_curve.append(train_acc)\n",
        "    test_curve.append(test_acc)"
      ],
      "execution_count": 74,
      "outputs": [
        {
          "output_type": "stream",
          "text": [
            "Epoch: 001, Loss: 1.04519, Train Acc: 0.61367, Test Acc: 0.55405\n",
            "Epoch: 002, Loss: 0.67517, Train Acc: 0.65379, Test Acc: 0.58108\n",
            "Epoch: 003, Loss: 0.66240, Train Acc: 0.69391, Test Acc: 0.62162\n",
            "Epoch: 004, Loss: 0.65638, Train Acc: 0.69391, Test Acc: 0.67568\n",
            "Epoch: 005, Loss: 0.65234, Train Acc: 0.72363, Test Acc: 0.63514\n",
            "Epoch: 006, Loss: 0.63472, Train Acc: 0.73403, Test Acc: 0.60811\n",
            "Epoch: 007, Loss: 0.60050, Train Acc: 0.73403, Test Acc: 0.62162\n",
            "Epoch: 008, Loss: 0.56668, Train Acc: 0.75780, Test Acc: 0.62162\n",
            "Epoch: 009, Loss: 0.54918, Train Acc: 0.76672, Test Acc: 0.68919\n",
            "Epoch: 010, Loss: 0.51432, Train Acc: 0.77712, Test Acc: 0.70270\n",
            "Epoch: 011, Loss: 0.50958, Train Acc: 0.79346, Test Acc: 0.70270\n",
            "Epoch: 012, Loss: 0.47700, Train Acc: 0.81129, Test Acc: 0.68919\n",
            "Epoch: 013, Loss: 0.45034, Train Acc: 0.82169, Test Acc: 0.68919\n",
            "Epoch: 014, Loss: 0.42825, Train Acc: 0.81724, Test Acc: 0.67568\n",
            "Epoch: 015, Loss: 0.40072, Train Acc: 0.85736, Test Acc: 0.68919\n",
            "Epoch: 016, Loss: 0.35939, Train Acc: 0.87370, Test Acc: 0.66216\n",
            "Epoch: 017, Loss: 0.34415, Train Acc: 0.87073, Test Acc: 0.63514\n",
            "Epoch: 018, Loss: 0.29511, Train Acc: 0.90193, Test Acc: 0.63514\n",
            "Epoch: 019, Loss: 0.28719, Train Acc: 0.89153, Test Acc: 0.66216\n",
            "Epoch: 020, Loss: 0.31165, Train Acc: 0.87221, Test Acc: 0.56757\n",
            "Epoch: 021, Loss: 0.25002, Train Acc: 0.94354, Test Acc: 0.63514\n",
            "Epoch: 022, Loss: 0.21869, Train Acc: 0.94502, Test Acc: 0.60811\n",
            "Epoch: 023, Loss: 0.19318, Train Acc: 0.97474, Test Acc: 0.59459\n",
            "Epoch: 024, Loss: 0.15535, Train Acc: 0.95245, Test Acc: 0.62162\n",
            "Epoch: 025, Loss: 0.20000, Train Acc: 0.95542, Test Acc: 0.54054\n",
            "Epoch: 026, Loss: 0.15407, Train Acc: 0.98960, Test Acc: 0.60811\n",
            "Epoch: 027, Loss: 0.10581, Train Acc: 0.99108, Test Acc: 0.60811\n",
            "Epoch: 028, Loss: 0.08948, Train Acc: 0.98068, Test Acc: 0.59459\n",
            "Epoch: 029, Loss: 0.09761, Train Acc: 0.99554, Test Acc: 0.55405\n",
            "Epoch: 030, Loss: 0.07685, Train Acc: 0.98663, Test Acc: 0.56757\n",
            "Epoch: 031, Loss: 0.06698, Train Acc: 0.99406, Test Acc: 0.56757\n",
            "Epoch: 032, Loss: 0.06619, Train Acc: 0.99703, Test Acc: 0.59459\n",
            "Epoch: 033, Loss: 0.05964, Train Acc: 0.99851, Test Acc: 0.59459\n",
            "Epoch: 034, Loss: 0.08181, Train Acc: 0.99851, Test Acc: 0.56757\n",
            "Epoch: 035, Loss: 0.05066, Train Acc: 0.99851, Test Acc: 0.56757\n",
            "Epoch: 036, Loss: 0.12435, Train Acc: 0.91530, Test Acc: 0.51351\n",
            "Epoch: 037, Loss: 0.13480, Train Acc: 0.98217, Test Acc: 0.56757\n",
            "Epoch: 038, Loss: 0.08547, Train Acc: 0.98366, Test Acc: 0.56757\n",
            "Epoch: 039, Loss: 0.10684, Train Acc: 0.99851, Test Acc: 0.56757\n",
            "Epoch: 040, Loss: 0.04760, Train Acc: 0.98068, Test Acc: 0.59459\n",
            "Epoch: 041, Loss: 0.08380, Train Acc: 0.98960, Test Acc: 0.55405\n",
            "Epoch: 042, Loss: 0.04727, Train Acc: 0.91382, Test Acc: 0.60811\n",
            "Epoch: 043, Loss: 0.11176, Train Acc: 0.90788, Test Acc: 0.60811\n",
            "Epoch: 044, Loss: 0.13676, Train Acc: 0.85587, Test Acc: 0.60811\n",
            "Epoch: 045, Loss: 0.17487, Train Acc: 0.79643, Test Acc: 0.58108\n",
            "Epoch: 046, Loss: 0.22834, Train Acc: 0.70728, Test Acc: 0.55405\n",
            "Epoch: 047, Loss: 0.49216, Train Acc: 0.93016, Test Acc: 0.60811\n",
            "Epoch: 048, Loss: 0.31827, Train Acc: 0.97474, Test Acc: 0.55405\n",
            "Epoch: 049, Loss: 0.18667, Train Acc: 0.95988, Test Acc: 0.59459\n",
            "Epoch: 050, Loss: 0.10941, Train Acc: 0.98811, Test Acc: 0.55405\n",
            "Epoch: 051, Loss: 0.06422, Train Acc: 0.99257, Test Acc: 0.58108\n",
            "Epoch: 052, Loss: 0.03712, Train Acc: 0.99703, Test Acc: 0.59459\n",
            "Epoch: 053, Loss: 0.03073, Train Acc: 0.99851, Test Acc: 0.58108\n",
            "Epoch: 054, Loss: 0.02245, Train Acc: 1.00000, Test Acc: 0.58108\n",
            "Epoch: 055, Loss: 0.01250, Train Acc: 1.00000, Test Acc: 0.56757\n",
            "Epoch: 056, Loss: 0.01868, Train Acc: 1.00000, Test Acc: 0.54054\n",
            "Epoch: 057, Loss: 0.01313, Train Acc: 1.00000, Test Acc: 0.54054\n",
            "Epoch: 058, Loss: 0.00900, Train Acc: 1.00000, Test Acc: 0.54054\n",
            "Epoch: 059, Loss: 0.00689, Train Acc: 1.00000, Test Acc: 0.55405\n",
            "Epoch: 060, Loss: 0.00520, Train Acc: 1.00000, Test Acc: 0.55405\n",
            "Epoch: 061, Loss: 0.00315, Train Acc: 1.00000, Test Acc: 0.54054\n",
            "Epoch: 062, Loss: 0.01115, Train Acc: 1.00000, Test Acc: 0.54054\n",
            "Epoch: 063, Loss: 0.01057, Train Acc: 1.00000, Test Acc: 0.56757\n",
            "Epoch: 064, Loss: 0.00323, Train Acc: 1.00000, Test Acc: 0.54054\n",
            "Epoch: 065, Loss: 0.00472, Train Acc: 1.00000, Test Acc: 0.55405\n",
            "Epoch: 066, Loss: 0.00577, Train Acc: 1.00000, Test Acc: 0.54054\n",
            "Epoch: 067, Loss: 0.00432, Train Acc: 1.00000, Test Acc: 0.54054\n",
            "Epoch: 068, Loss: 0.00346, Train Acc: 1.00000, Test Acc: 0.54054\n",
            "Epoch: 069, Loss: 0.00546, Train Acc: 1.00000, Test Acc: 0.54054\n",
            "Epoch: 070, Loss: 0.00234, Train Acc: 1.00000, Test Acc: 0.54054\n",
            "Epoch: 071, Loss: 0.00265, Train Acc: 1.00000, Test Acc: 0.52703\n",
            "Epoch: 072, Loss: 0.00441, Train Acc: 1.00000, Test Acc: 0.52703\n",
            "Epoch: 073, Loss: 0.00184, Train Acc: 1.00000, Test Acc: 0.54054\n",
            "Epoch: 074, Loss: 0.00373, Train Acc: 1.00000, Test Acc: 0.51351\n",
            "Epoch: 075, Loss: 0.00289, Train Acc: 1.00000, Test Acc: 0.52703\n",
            "Epoch: 076, Loss: 0.00352, Train Acc: 1.00000, Test Acc: 0.56757\n",
            "Epoch: 077, Loss: 0.00297, Train Acc: 1.00000, Test Acc: 0.52703\n",
            "Epoch: 078, Loss: 0.00159, Train Acc: 1.00000, Test Acc: 0.54054\n",
            "Epoch: 079, Loss: 0.00109, Train Acc: 1.00000, Test Acc: 0.54054\n",
            "Epoch: 080, Loss: 0.00207, Train Acc: 1.00000, Test Acc: 0.54054\n",
            "Epoch: 081, Loss: 0.00467, Train Acc: 1.00000, Test Acc: 0.58108\n",
            "Epoch: 082, Loss: 0.00183, Train Acc: 1.00000, Test Acc: 0.56757\n",
            "Epoch: 083, Loss: 0.00234, Train Acc: 1.00000, Test Acc: 0.56757\n",
            "Epoch: 084, Loss: 0.00255, Train Acc: 1.00000, Test Acc: 0.55405\n",
            "Epoch: 085, Loss: 0.00682, Train Acc: 1.00000, Test Acc: 0.55405\n",
            "Epoch: 086, Loss: 0.00227, Train Acc: 1.00000, Test Acc: 0.54054\n",
            "Epoch: 087, Loss: 0.00086, Train Acc: 1.00000, Test Acc: 0.56757\n",
            "Epoch: 088, Loss: 0.00063, Train Acc: 1.00000, Test Acc: 0.55405\n",
            "Epoch: 089, Loss: 0.00644, Train Acc: 1.00000, Test Acc: 0.54054\n",
            "Epoch: 090, Loss: 0.00323, Train Acc: 1.00000, Test Acc: 0.58108\n",
            "Epoch: 091, Loss: 0.01655, Train Acc: 1.00000, Test Acc: 0.54054\n",
            "Epoch: 092, Loss: 0.00692, Train Acc: 1.00000, Test Acc: 0.54054\n",
            "Epoch: 093, Loss: 0.00750, Train Acc: 1.00000, Test Acc: 0.55405\n",
            "Epoch: 094, Loss: 0.00801, Train Acc: 0.99851, Test Acc: 0.50000\n",
            "Epoch: 095, Loss: 0.01074, Train Acc: 0.99851, Test Acc: 0.58108\n",
            "Epoch: 096, Loss: 0.01126, Train Acc: 1.00000, Test Acc: 0.48649\n",
            "Epoch: 097, Loss: 0.01306, Train Acc: 1.00000, Test Acc: 0.55405\n",
            "Epoch: 098, Loss: 0.02524, Train Acc: 1.00000, Test Acc: 0.51351\n",
            "Epoch: 099, Loss: 0.00744, Train Acc: 1.00000, Test Acc: 0.56757\n",
            "Epoch: 100, Loss: 0.03483, Train Acc: 1.00000, Test Acc: 0.54054\n"
          ],
          "name": "stdout"
        }
      ]
    },
    {
      "cell_type": "code",
      "metadata": {
        "id": "rvaewMiotBH2",
        "colab_type": "code",
        "colab": {
          "base_uri": "https://localhost:8080/",
          "height": 295
        },
        "outputId": "6ae995b9-89bd-4240-9f07-0b0034d19de3"
      },
      "source": [
        "import matplotlib.pyplot as plt\n",
        "\n",
        "plt.plot(train_curve)\n",
        "plt.plot(test_curve)\n",
        "plt.title('model accuracy')\n",
        "plt.ylabel('accuracy')\n",
        "plt.xlabel('epoch')\n",
        "plt.legend(['train', 'validation'], loc='upper left')\n",
        "plt.show()"
      ],
      "execution_count": 75,
      "outputs": [
        {
          "output_type": "display_data",
          "data": {
            "image/png": "[encoded data removed]",
            "text/plain": [
              "<Figure size 432x288 with 1 Axes>"
            ]
          },
          "metadata": {
            "tags": []
          }
        }
      ]
    },
    {
      "cell_type": "code",
      "metadata": {
        "id": "FwUEwuXo1IF2",
        "colab_type": "code",
        "colab": {}
      },
      "source": [
        ""
      ],
      "execution_count": 0,
      "outputs": []
    }
  ]
}